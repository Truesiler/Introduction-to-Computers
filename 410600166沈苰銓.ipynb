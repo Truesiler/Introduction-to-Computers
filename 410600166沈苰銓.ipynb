{
  "nbformat": 4,
  "nbformat_minor": 0,
  "metadata": {
    "colab": {
      "name": "410600166沈苰銓.ipynb",
      "provenance": [],
      "authorship_tag": "ABX9TyN+3QOEyTa16uQJ2rsBh73e",
      "include_colab_link": true
    },
    "kernelspec": {
      "name": "python3",
      "display_name": "Python 3"
    },
    "language_info": {
      "name": "python"
    }
  },
  "cells": [
    {
      "cell_type": "markdown",
      "metadata": {
        "id": "view-in-github",
        "colab_type": "text"
      },
      "source": [
        "<a href=\"https://colab.research.google.com/github/Truesiler/Introduction-to-Computers/blob/main/410600166%E6%B2%88%E8%8B%B0%E9%8A%93.ipynb\" target=\"_parent\"><img src=\"https://colab.research.google.com/assets/colab-badge.svg\" alt=\"Open In Colab\"/></a>"
      ]
    },
    {
      "cell_type": "code",
      "execution_count": null,
      "metadata": {
        "colab": {
          "base_uri": "https://localhost:8080/"
        },
        "id": "dHN_Ug_Ck5MP",
        "outputId": "7e32b6ea-6b05-462e-ca35-feedaff14049"
      },
      "outputs": [
        {
          "output_type": "stream",
          "name": "stdout",
          "text": [
            "吃麵?是\n",
            "喝湯?是\n",
            "牛肉麵\n"
          ]
        }
      ],
      "source": [
        "a1=input(\"吃麵?\")\n",
        "if a1==\"是\":\n",
        "  a2=input(\"喝湯?\")\n",
        "  if a2==\"是\":\n",
        "    print(\"牛肉麵\")\n",
        "  else:\n",
        "    print(\"麻醬麵\")\n",
        "else: \n",
        "  a3=input(\"重口味?\")\n",
        "  if a3==\"是\":\n",
        "    print(\"豬腳飯\")\n",
        "  else:\n",
        "    print(\"海鮮粥\")"
      ]
    },
    {
      "cell_type": "code",
      "source": [
        "hw1=[82,84,68,76,82]\n",
        "hw2=[90,75,88,63,57]\n",
        "hw3=[81,92,67,66,98]\n",
        "hw__all=[[82,84,68,76,82],[90,75,88,63,57],[81,92,67,66,98]]\n",
        "hw__all1=[[[82,84,68,76,82],[90,75,88,63,57]],[82,84,68,76,82],[90,75,88,63,57]]\n",
        "print(hw_all[0][0][0])"
      ],
      "metadata": {
        "colab": {
          "base_uri": "https://localhost:8080/"
        },
        "id": "oK5NPmZpk8Hq",
        "outputId": "f50008d9-f896-4f39-d4b2-086b84f958fb"
      },
      "execution_count": null,
      "outputs": [
        {
          "output_type": "stream",
          "name": "stdout",
          "text": [
            "90\n"
          ]
        }
      ]
    },
    {
      "cell_type": "code",
      "source": [
        "i=\"a\"\n",
        "while i!=\"a\":\n",
        "  print(\"!=i\")\n",
        "print(\"=a\")"
      ],
      "metadata": {
        "colab": {
          "base_uri": "https://localhost:8080/"
        },
        "id": "HrjD--4ijj6P",
        "outputId": "f9c40966-9835-4556-b31a-d1b6a775249d"
      },
      "execution_count": null,
      "outputs": [
        {
          "output_type": "stream",
          "name": "stdout",
          "text": [
            "=a\n"
          ]
        }
      ]
    },
    {
      "cell_type": "code",
      "source": [
        "password=61\n",
        "enter=int(input('請輸入密碼:'))\n",
        "\n",
        "while enter!=password:\n",
        "  if enter<password:\n",
        "    print(\"太小\")\n",
        "  else:\n",
        "    print(\"太大\")\n",
        "  enter=int(input('請輸入密碼:'))\n",
        "print(\"答對\")"
      ],
      "metadata": {
        "colab": {
          "base_uri": "https://localhost:8080/"
        },
        "id": "oe94m2SQkMKx",
        "outputId": "96ce6dfa-8915-45b9-d32a-c50927e3ba43"
      },
      "execution_count": null,
      "outputs": [
        {
          "output_type": "stream",
          "name": "stdout",
          "text": [
            "請輸入密碼:50\n",
            "太小\n",
            "請輸入密碼:64\n",
            "太大\n",
            "請輸入密碼:61\n",
            "答對\n"
          ]
        }
      ]
    },
    {
      "cell_type": "code",
      "source": [
        "a=[2,6,1,7,5,]\n",
        "#len(a)\n",
        "#max(a)\n",
        "#min(a)\n",
        "#sorted(a)\n",
        "\n",
        "#加入append\n",
        "#a.append(9)\n",
        "#a\n",
        "\n",
        "#找索引index\n",
        "#a.index(2)\n",
        "\n",
        "#特定位置加入\n",
        "#a.insert(2,10)\n",
        "#a\n",
        "\n",
        "#刪除remove\n",
        "#a.remove(7)\n",
        "#a\n",
        "\n",
        "#特定位置刪除pop\n",
        "#a.pop(0)\n",
        "#a\n",
        "\n",
        "#倒轉\n",
        "#a.reverse()\n",
        "#a\n",
        "\n",
        "for i in a:\n",
        "  print(i)\n",
        "print(\"end\")"
      ],
      "metadata": {
        "colab": {
          "base_uri": "https://localhost:8080/"
        },
        "id": "0R-rAtsp0MW4",
        "outputId": "39227a56-db4b-45c9-e0f1-0ae48fa98f8f"
      },
      "execution_count": null,
      "outputs": [
        {
          "output_type": "stream",
          "name": "stdout",
          "text": [
            "2\n",
            "6\n",
            "1\n",
            "7\n",
            "5\n",
            "end\n"
          ]
        }
      ]
    },
    {
      "cell_type": "code",
      "source": [
        "b=[]\n",
        "\n",
        "for i in range(1,14,3):\n",
        "  b.append(i)\n",
        "  print(b)\n",
        "print(b)"
      ],
      "metadata": {
        "colab": {
          "base_uri": "https://localhost:8080/"
        },
        "id": "YmS6tgpk2IAZ",
        "outputId": "3784fce9-6a20-4dc9-c96f-d395db9e57d7"
      },
      "execution_count": null,
      "outputs": [
        {
          "output_type": "stream",
          "name": "stdout",
          "text": [
            "[1]\n",
            "[1, 4]\n",
            "[1, 4, 7]\n",
            "[1, 4, 7, 10]\n",
            "[1, 4, 7, 10, 13]\n",
            "[1, 4, 7, 10, 13]\n"
          ]
        }
      ]
    },
    {
      "cell_type": "code",
      "source": [
        "c=[\"a\",\"b\",\"c\",\"d\",\"e\"]\n",
        "print(len(c))\n",
        "for i in range(len(c)):\n",
        "  print(c[i])"
      ],
      "metadata": {
        "colab": {
          "base_uri": "https://localhost:8080/"
        },
        "id": "yjgFzWdk3HsU",
        "outputId": "ce4cedc9-de7f-4458-df9e-77a6938bf242"
      },
      "execution_count": null,
      "outputs": [
        {
          "output_type": "stream",
          "name": "stdout",
          "text": [
            "5\n",
            "a\n",
            "b\n",
            "c\n",
            "d\n",
            "e\n"
          ]
        }
      ]
    },
    {
      "cell_type": "code",
      "source": [
        "for i in range(1,10):\n",
        "  for n in range(1,10):\n",
        "    print('%d*%d=%2d'%(n,i,i*n),end=\"  \")\n",
        "  print()"
      ],
      "metadata": {
        "colab": {
          "base_uri": "https://localhost:8080/"
        },
        "id": "-H6xbWYdzPN4",
        "outputId": "34665c66-534b-4f73-8ac9-ba75cff0d864"
      },
      "execution_count": null,
      "outputs": [
        {
          "output_type": "stream",
          "name": "stdout",
          "text": [
            "1*1= 1  2*1= 2  3*1= 3  4*1= 4  5*1= 5  6*1= 6  7*1= 7  8*1= 8  9*1= 9  \n",
            "1*2= 2  2*2= 4  3*2= 6  4*2= 8  5*2=10  6*2=12  7*2=14  8*2=16  9*2=18  \n",
            "1*3= 3  2*3= 6  3*3= 9  4*3=12  5*3=15  6*3=18  7*3=21  8*3=24  9*3=27  \n",
            "1*4= 4  2*4= 8  3*4=12  4*4=16  5*4=20  6*4=24  7*4=28  8*4=32  9*4=36  \n",
            "1*5= 5  2*5=10  3*5=15  4*5=20  5*5=25  6*5=30  7*5=35  8*5=40  9*5=45  \n",
            "1*6= 6  2*6=12  3*6=18  4*6=24  5*6=30  6*6=36  7*6=42  8*6=48  9*6=54  \n",
            "1*7= 7  2*7=14  3*7=21  4*7=28  5*7=35  6*7=42  7*7=49  8*7=56  9*7=63  \n",
            "1*8= 8  2*8=16  3*8=24  4*8=32  5*8=40  6*8=48  7*8=56  8*8=64  9*8=72  \n",
            "1*9= 9  2*9=18  3*9=27  4*9=36  5*9=45  6*9=54  7*9=63  8*9=72  9*9=81  \n"
          ]
        }
      ]
    },
    {
      "cell_type": "code",
      "source": [
        "warrior_minion={\"atk\":80, \"hp\":1300, \"def\":16}\n",
        "distance_minion={\"atk\":120, \"hp\":485, \"def\":0}\n",
        "minion={\"進戰\":warrior_minion, \"遠程\":distance_minion}\n",
        "print(minion[\"遠程\"][\"atk\"])\n"
      ],
      "metadata": {
        "colab": {
          "base_uri": "https://localhost:8080/"
        },
        "id": "ApdaxWhC26ab",
        "outputId": "39f05b25-1a65-4602-b482-70ef3ecf4afd"
      },
      "execution_count": null,
      "outputs": [
        {
          "output_type": "stream",
          "name": "stdout",
          "text": [
            "120\n"
          ]
        }
      ]
    },
    {
      "cell_type": "code",
      "source": [
        "Amy={\"math\":90, \"language\":95}\n",
        "Betty={\"math\":100, \"language\":97}\n",
        "Cindy={\"math\":85, \"language\":88}\n",
        "Dora={\"math\":77, \"language\":90}\n",
        "Eva={\"math\":93, \"language\":91}\n",
        "class_score={21:Amy, 22:Betty, 23:Cindy, 24:Dora, 25:Eva}\n",
        "print(class_score[23][\"math\"])"
      ],
      "metadata": {
        "colab": {
          "base_uri": "https://localhost:8080/"
        },
        "id": "48yHDZrD-n6i",
        "outputId": "377fb2cc-32d1-4390-f91c-fbebf46f7b9d"
      },
      "execution_count": null,
      "outputs": [
        {
          "output_type": "stream",
          "name": "stdout",
          "text": [
            "85\n"
          ]
        }
      ]
    },
    {
      "cell_type": "code",
      "source": [
        "def example1(a,b):\n",
        "  ans=a+b\n",
        "  return f\"答案是{ans}\"\n",
        "\n",
        "def example1_1(a,b):\n",
        "  ans=a*b\n",
        "  return f\"答案是{ans}\"  \n",
        "\n",
        "x=example1(1,2)\n",
        "print(x)\n",
        "y=example1_1(1,2)\n",
        "print(y)"
      ],
      "metadata": {
        "colab": {
          "base_uri": "https://localhost:8080/"
        },
        "id": "wPGHnasl7n98",
        "outputId": "03a1f5ab-a055-4691-f663-ea18cf53adaf"
      },
      "execution_count": null,
      "outputs": [
        {
          "output_type": "stream",
          "name": "stdout",
          "text": [
            "答案是3\n",
            "答案是2\n"
          ]
        }
      ]
    },
    {
      "cell_type": "code",
      "source": [
        "def add(a,b):\n",
        "  ans=a+b\n",
        "  return ans\n",
        "\n",
        "def sub(a,b):\n",
        "  ans=a-b\n",
        "  return ans\n",
        "\n",
        "def mul(a,b):\n",
        "  ans=a*b\n",
        "  return ans\n",
        "\n",
        "a=int(input(\"請輸入一個數:\"))\n",
        "b=int(input(\"請輸入另一個數:\"))\n",
        "n=input(\"請選擇要進行加減乘哪一個:\")\n",
        "if n==\"加\":\n",
        "  ans=add(a,b)\n",
        "elif n==\"減\":\n",
        "  ans=sub(a,b)\n",
        "else:\n",
        "  ans=mul(a,b)\n",
        "print(f\"{a}{n}{b}={ans}\")"
      ],
      "metadata": {
        "colab": {
          "base_uri": "https://localhost:8080/"
        },
        "id": "Tut1v_wr76Ia",
        "outputId": "a3eb93cf-9433-4db6-f997-bf9901f085f8"
      },
      "execution_count": null,
      "outputs": [
        {
          "output_type": "stream",
          "name": "stdout",
          "text": [
            "請輸入一個數:3\n",
            "請輸入另一個數:5\n",
            "請選擇要進行加減乘哪一個:減\n",
            "3減5=-2\n"
          ]
        }
      ]
    },
    {
      "cell_type": "code",
      "source": [
        "expense={\n",
        "  \"a\":[20,30,55,20],\n",
        "  \"b\":[23,35,40,28],\n",
        "  \"c\":[33,40,50,25]\n",
        "}\n",
        "revenue={\n",
        "  \"a\":[35,22,45,30],\n",
        "  \"b\":[44,65,60,58],\n",
        "  \"c\":[27,46,37,38]\n",
        "}\n",
        "add_expense=0\n",
        "for i in expense[\"b\"]:\n",
        "  add_expense+=i\n",
        "print(add_expense)\n",
        "add_revenue=0\n",
        "for i in revenue[\"b\"]:\n",
        "  add_revenue+=i\n",
        "print(add_revenue)\n",
        "ans=add_revenue-add_expense\n",
        "\n",
        "if ans>0:\n",
        "  print(\"賺錢\")\n",
        "elif ans <0:\n",
        "  print(\"虧錢\")\n",
        "else:\n",
        "  print(\"不賺不賠\")"
      ],
      "metadata": {
        "colab": {
          "base_uri": "https://localhost:8080/"
        },
        "id": "-4psS7eSv-4-",
        "outputId": "9d2ed055-7ee2-427d-c0ad-eecd0adf83e9"
      },
      "execution_count": null,
      "outputs": [
        {
          "output_type": "stream",
          "name": "stdout",
          "text": [
            "126\n",
            "227\n",
            "賺錢\n"
          ]
        }
      ]
    }
  ]
}